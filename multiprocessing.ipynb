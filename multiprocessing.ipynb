{
 "cells": [
  {
   "cell_type": "code",
   "execution_count": 3,
   "id": "7e3337d6-9e40-47a5-a327-e7c21e2f6e43",
   "metadata": {},
   "outputs": [
    {
     "name": "stdout",
     "output_type": "stream",
     "text": [
      "this is my main prod\n",
      "this is my multiprocessing prog\n"
     ]
    }
   ],
   "source": [
    "import multiprocessing\n",
    "\n",
    "def test():\n",
    "    print(\"this is my multiprocessing prog\")\n",
    "    \n",
    "if __name__ == \"__main__\":\n",
    "    m = multiprocessing.Process(target=test)\n",
    "    print(\"this is my main prod\")\n",
    "    m.start()\n",
    "    m.join()\n",
    "    "
   ]
  },
  {
   "cell_type": "code",
   "execution_count": 2,
   "id": "bc9f4c4e-f4fa-49da-9ec1-b400ed2297fe",
   "metadata": {},
   "outputs": [
    {
     "name": "stdout",
     "output_type": "stream",
     "text": [
      "this is my multiprocessing prog\n"
     ]
    }
   ],
   "source": [
    "test()"
   ]
  },
  {
   "cell_type": "code",
   "execution_count": 4,
   "id": "a70d0ba6-e0ed-4bf9-ad62-c47fce293c78",
   "metadata": {},
   "outputs": [
    {
     "name": "stdout",
     "output_type": "stream",
     "text": [
      "[9, 16, 25, 36, 36, 49, 64, 49, 64, 64]\n"
     ]
    }
   ],
   "source": [
    "def square(n):\n",
    "    return n**2\n",
    "if __name__ == '__main__':\n",
    "    with multiprocessing.Pool(processes=5) as pool :\n",
    "        out =pool.map(square , [3,4,5,6,6,7,8,7,8,8])\n",
    "        print(out)"
   ]
  },
  {
   "cell_type": "code",
   "execution_count": null,
   "id": "3d9d77bc-ed8e-41c1-9477-2adf81c389a0",
   "metadata": {},
   "outputs": [
    {
     "name": "stdout",
     "output_type": "stream",
     "text": [
      "sudh\n",
      "mirza\n",
      "Aman\n",
      "naik\n",
      "shivam\n",
      "xyz\n"
     ]
    }
   ],
   "source": [
    "import multiprocessing\n",
    "\n",
    "def producer(q):\n",
    "    for i in [\"sudh\" , \"mirza\" , \"Aman\" , \"naik\" , \"shivam\"]:\n",
    "        q.put(i)\n",
    "    \n",
    "def consume(q) :\n",
    "    while True :\n",
    "        item = q.get()\n",
    "        if item is None :\n",
    "            break\n",
    "        print(item)\n",
    "        \n",
    "if __name__ == '__main__':\n",
    "    queue = multiprocessing.Queue()\n",
    "    m1 = multiprocessing.Process(target=producer , args= (queue,))\n",
    "    m2 = multiprocessing.Process(target=consume ,args=(queue,) )\n",
    "    m1.start()\n",
    "    m2.start()\n",
    "    queue.put(\"xyz\")\n",
    "    m1.join()\n",
    "    m2.join()"
   ]
  },
  {
   "cell_type": "code",
   "execution_count": null,
   "id": "2904525f-c849-473f-842e-d8bbc5ec8f89",
   "metadata": {},
   "outputs": [],
   "source": [
    "imoprt mutiprocessing\n",
    "\n",
    "def square(index , value ):\n",
    "    value[index] = value[index] **2\n",
    "    \n",
    "if __name__ == '__main__':\n",
    "    arr = multiprocessing.Array('i', [2,3,6,7,8,8,9,3,3,3])\n",
    "    process = []\n",
    "    for i in range(10) :\n",
    "        m = multiprocessing.Process(target=squre , args = (i , arr))\n",
    "        process.append(m)\n",
    "        m.start()\n",
    "    for m in process:\n",
    "        m.join()\n",
    "    print(list(arr))"
   ]
  },
  {
   "cell_type": "code",
   "execution_count": null,
   "id": "7836d60c-7a3d-4bd3-a3fa-db149d4fad12",
   "metadata": {},
   "outputs": [],
   "source": [
    "##Pipe\n",
    "\n",
    "import multiprocessing\n",
    "\n",
    "def sender(conn , msg):\n",
    "    for i in msg:\n",
    "        conn.send(i)\n",
    "    conn.close()\n",
    "    \n",
    "def receive(conn) :\n",
    "    while True:\n",
    "        try:\n",
    "            msg = conn.recv()\n",
    "        except Exception as e :\n",
    "            print(e)\n",
    "            break:\n",
    "        print(msg)\n",
    "        \n",
    "if __name__ == '__main__':\n",
    "    msg = [\"my name is mirza\" ,\"this is my msg to my friends \" , \"I am watching a data science class \" , \"try to practice all the code \"]\n",
    "    parent_conn , child_conn = multiprocessing.Pipe()\n",
    "    m1 = multiprocessing.Process(target=sender , args = (child_conn , msg))\n",
    "    m2 = multiprocessing.Process(target=receive , args = (parent_conn))\n",
    "    m1.start()\n",
    "    m2.start()\n",
    "    m1.join()\n",
    "    child_conn.close()\n",
    "    m2.join()\n",
    "    parent_conn.close()"
   ]
  },
  {
   "cell_type": "code",
   "execution_count": null,
   "id": "8f03b48b-c988-4673-9f47-badf5496d8db",
   "metadata": {},
   "outputs": [],
   "source": []
  }
 ],
 "metadata": {
  "kernelspec": {
   "display_name": "Python 3 (ipykernel)",
   "language": "python",
   "name": "python3"
  },
  "language_info": {
   "codemirror_mode": {
    "name": "ipython",
    "version": 3
   },
   "file_extension": ".py",
   "mimetype": "text/x-python",
   "name": "python",
   "nbconvert_exporter": "python",
   "pygments_lexer": "ipython3",
   "version": "3.10.8"
  }
 },
 "nbformat": 4,
 "nbformat_minor": 5
}
